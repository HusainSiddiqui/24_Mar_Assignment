{
 "cells": [
  {
   "cell_type": "markdown",
   "metadata": {},
   "source": [
    "Note:- We can use Wine quality dataset and Student Performance Data set as per the discussion in lecture"
   ]
  },
  {
   "cell_type": "markdown",
   "metadata": {},
   "source": [
    "Q1. What are the key features of the wine quality data set? Discuss the importance of each feature in\n",
    "predicting the quality of wine."
   ]
  },
  {
   "cell_type": "markdown",
   "metadata": {},
   "source": [
    "1. Fixed Acidity: Fixed acidity refers to the non-volatile acids in the wine, such as tartaric acid. It contributes to the overall acidity of the wine and can influence its taste and stability.\n",
    "\n",
    "2. Volatile Acidity: Volatile acidity represents the volatile acids present in the wine, such as acetic acid. High levels of volatile acidity can result in an unpleasant vinegar-like taste and are generally considered a defect in wine.\n",
    "\n",
    "3. Citric Acid: Citric acid is one of the organic acids naturally found in wine. It can provide freshness and contribute to the overall flavor profile of the wine.\n",
    "\n",
    "4. Residual Sugar: Residual sugar refers to the amount of sugar remaining in the wine after fermentation. It can affect the sweetness and perceived body of the wine.\n",
    "\n",
    "5. Chlorides: Chlorides are salts that can be found in wine. High levels of chlorides can contribute to a salty taste and affect the overall balance of flavors in the wine.\n",
    "\n",
    "6. Free Sulfur Dioxide: Free sulfur dioxide is a form of sulfur dioxide that is not bound to other compounds in the wine. It acts as an antioxidant and preservative, preventing wine from oxidation and microbial spoilage.\n",
    "\n",
    "7. Total Sulfur Dioxide: Total sulfur dioxide is the sum of both free and bound forms of sulfur dioxide in the wine. It is an important parameter for wine stability and can impact the wine's aging potential.\n",
    "\n",
    "8. Density: Density measures the mass of the wine relative to its volume. It can be influenced by factors like sugar content, alcohol content, and temperature. Density is an indicator of the wine's body and can provide insights into its overall quality.\n",
    "\n",
    "9. pH: pH represents the level of acidity or alkalinity in the wine. It influences the wine's taste, microbial stability, and color stability. Wines with lower pH values are generally more acidic and tart.\n",
    "\n",
    "10. Sulphates: Sulphates are a type of salt that can be found in wine, often in the form of potassium or calcium sulphate. They can impact the wine's aroma and flavor profile.\n",
    "\n",
    "11. Alcohol: Alcohol content is an important characteristic of wine that contributes to its body, mouthfeel, and overall balance. It is usually measured as a percentage of volume."
   ]
  },
  {
   "cell_type": "markdown",
   "metadata": {},
   "source": [
    "Q2. How did you handle missing data in the wine quality data set during the feature engineering process?\n",
    "Discuss the advantages and disadvantages of different imputation techniques."
   ]
  },
  {
   "cell_type": "markdown",
   "metadata": {},
   "source": [
    "wine quality data set do not have missing values\n",
    "\n",
    "wine_df.isnull().sum()\n",
    "\n",
    "fixed acidity           0\n",
    "\n",
    "volatile acidity        0\n",
    "\n",
    "citric acid             0\n",
    "\n",
    "residual sugar          0\n",
    "\n",
    "chlorides               0\n",
    "\n",
    "free sulfur dioxide     0\n",
    "\n",
    "total sulfur dioxide    0\n",
    "\n",
    "density                 0\n",
    "\n",
    "pH                      0\n",
    "\n",
    "sulphates               0\n",
    "\n",
    "alcohol                 0\n",
    "\n",
    "quality                 0\n",
    "\n",
    "dtype: int64"
   ]
  },
  {
   "cell_type": "markdown",
   "metadata": {},
   "source": [
    "Q3. What are the key factors that affect students' performance in exams? How would you go about\n",
    "analyzing these factors using statistical techniques?"
   ]
  },
  {
   "cell_type": "code",
   "execution_count": null,
   "metadata": {},
   "outputs": [],
   "source": [
    "student_df=pd.read_csv('C:/Users/Admin/Documents/Python_Program/datasets/student-performance.csv')\n",
    "student_df['total_G']=(student_df['G1']+student_df['G2']+student_df['G3'])/3\n",
    "student_df.drop(['G1', 'G2', 'G3'], axis=1, inplace=True)\n",
    "corr = student_df.corr()\n",
    "x = corr.sort_values('total_G')\n",
    "t=x.tail(4).iloc[:-1].index\n",
    "f=x[t].iloc[-1:]\n",
    "f.columns.tolist()\n",
    "\n",
    "#output\n",
    "\n",
    "#conclusion feature (family education)'Fedu'=0.22, 'studytime'=0.26, (Mother education)'Medu'=0.26\n",
    "#these are factor that affect most"
   ]
  },
  {
   "cell_type": "markdown",
   "metadata": {},
   "source": [
    "Q4. Describe the process of feature engineering in the context of the student performance data set. How\n",
    "did you select and transform the variables for your model?"
   ]
  },
  {
   "cell_type": "markdown",
   "metadata": {},
   "source": [
    "student dataset have following features :\n",
    "\n",
    "age,Medu,Fedu,traveltime,studytime,failures,famrel,freetime,goout,Dalc,Walc,health,absences,G1,G2,G3\n",
    "\n",
    "G1=first period grade (numeric: from 0 to 20)\n",
    "\n",
    "G2=second period grade (numeric: from 0 to 20)\n",
    "\n",
    "G3=final grade (numeric: from 0 to 20)\n",
    "\n",
    "1. G1+G2+G3=total_G/3 calculate avearge grade\n",
    "\n",
    "2. drop unwanted feature like G1,G2,G3"
   ]
  },
  {
   "cell_type": "markdown",
   "metadata": {},
   "source": [
    "Q5. Load the wine quality data set and perform exploratory data analysis (EDA) to identify the distribution\n",
    "of each feature. Which feature(s) exhibit non-normality, and what transformations could be applied to\n",
    "these features to improve normality?"
   ]
  },
  {
   "cell_type": "code",
   "execution_count": null,
   "metadata": {},
   "outputs": [],
   "source": [
    "wine_df=pd.read_csv('C:/Users/Admin/Documents/Python_Program/datasets/winequality-red.csv')"
   ]
  },
  {
   "cell_type": "code",
   "execution_count": null,
   "metadata": {},
   "outputs": [],
   "source": [
    "wine_df.info()"
   ]
  },
  {
   "cell_type": "code",
   "execution_count": null,
   "metadata": {},
   "outputs": [],
   "source": [
    "wine_df.describe()"
   ]
  },
  {
   "cell_type": "code",
   "execution_count": null,
   "metadata": {},
   "outputs": [],
   "source": [
    "wine_df.isnull().sum()"
   ]
  },
  {
   "cell_type": "code",
   "execution_count": null,
   "metadata": {},
   "outputs": [],
   "source": [
    "len(wine_df.columns)"
   ]
  },
  {
   "cell_type": "code",
   "execution_count": null,
   "metadata": {},
   "outputs": [],
   "source": [
    "wine_df.corr()"
   ]
  },
  {
   "cell_type": "markdown",
   "metadata": {},
   "source": [
    "Quality: The \"quality\" variable is positively correlated with \"alcohol\" and \"citric acid\" and negatively correlated with \"volatile acidity\" and \"pH\". This suggests that higher alcohol content and citric acid levels are associated with higher quality ratings"
   ]
  },
  {
   "cell_type": "code",
   "execution_count": null,
   "metadata": {},
   "outputs": [],
   "source": [
    "import seaborn as sns\n",
    "import matplotlib.pyplot as plt\n",
    "\n",
    "# Assuming wine_df is your wine quality dataset\n",
    "sns.set(style=\"ticks\")\n",
    "\n",
    "# Plot histograms for each feature\n",
    "for column in wine_df.columns:\n",
    "    stats.probplot(wine_df[column], dist='norm', plot=plt)\n",
    "    #sns.histplot(data=wine_df[column], kde=True)\n",
    "    plt.title(f\"Histogram of {column}\")\n",
    "    plt.show()\n",
    "\n",
    "# Plot density plots for each feature\n",
    "for column in wine_df.columns:\n",
    "    sns.kdeplot(data=wine_df[column])\n",
    "    plt.title(f\"Density Plot of {column}\")\n",
    "    plt.show()\n"
   ]
  },
  {
   "cell_type": "markdown",
   "metadata": {},
   "source": [
    "Q6. Using the wine quality data set, perform principal component analysis (PCA) to reduce the number of\n",
    "features. What is the minimum number of principal components required to explain 90% of the variance in\n",
    "the data?"
   ]
  },
  {
   "cell_type": "code",
   "execution_count": 4,
   "metadata": {},
   "outputs": [
    {
     "name": "stdout",
     "output_type": "stream",
     "text": [
      "The minimum number of principal components required to explain 90% of the variance is: 7\n"
     ]
    }
   ],
   "source": [
    "import pandas as pd\n",
    "from sklearn.decomposition import PCA\n",
    "from sklearn.preprocessing import StandardScaler\n",
    "import numpy as np\n",
    "\n",
    "# Load the wine quality dataset (assuming it's in a CSV file)\n",
    "data = pd.read_csv('C:/Users/Admin/Documents/Python_Program/datasets/winequality-red.csv')\n",
    "\n",
    "# Separate the features from the target variable (if present)\n",
    "X = data.drop('quality', axis=1)\n",
    "\n",
    "# Standardize the features\n",
    "scaler = StandardScaler()\n",
    "X_scaled = scaler.fit_transform(X)\n",
    "\n",
    "# Apply PCA\n",
    "pca = PCA()\n",
    "X_pca = pca.fit_transform(X_scaled)\n",
    "\n",
    "#\n",
    "explian_ratio=pca.explained_variance_ratio_\n",
    "# Calculate the cumulative explained variance ratio\n",
    "explained_variance_ratio_cumsum = np.cumsum(explian_ratio)\n",
    "\n",
    "# Find the minimum number of principal components needed to explain at least 90% of the variance\n",
    "min_components = np.argmax(explained_variance_ratio_cumsum >= 0.9) + 1\n",
    "\n",
    "print(f\"The minimum number of principal components required to explain 90% of the variance is: {min_components}\")\n"
   ]
  }
 ],
 "metadata": {
  "kernelspec": {
   "display_name": "Python 3",
   "language": "python",
   "name": "python3"
  },
  "language_info": {
   "codemirror_mode": {
    "name": "ipython",
    "version": 3
   },
   "file_extension": ".py",
   "mimetype": "text/x-python",
   "name": "python",
   "nbconvert_exporter": "python",
   "pygments_lexer": "ipython3",
   "version": "3.6.5"
  }
 },
 "nbformat": 4,
 "nbformat_minor": 2
}
